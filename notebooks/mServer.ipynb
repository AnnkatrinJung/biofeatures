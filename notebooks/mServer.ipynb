{
 "cells": [
  {
   "cell_type": "code",
   "execution_count": null,
   "metadata": {},
   "outputs": [],
   "source": [
    "# CONNECTION = TCPClient()\n",
    "# CONNECTION.connect()\n",
    "# t0 = time.time()\n",
    "# CONNECTION.setIsAcquiring(True)\n",
    "# new_msg = 'start'\n",
    "# CONNECTION.start()\n",
    "# CONNECTION.addMsgToSend(new_msg)\n",
    "\n",
    "# while True:\n",
    "#     te = time.time() - t0\n",
    "\n",
    "#     if (te > 10 ):\n",
    "#         new_msg = 'stop'\n",
    "#         CONNECTION.setIsAcquiring(False)\n",
    "#         CONNECTION.addMsgToSend(new_msg)\n",
    "\n",
    "\n",
    "#     if (te > 11 ):\n",
    "#         new_msg = ''\n",
    "#         CONNECTION.stop()\n",
    "#         CONNECTION.addMsgToSend(new_msg)\n",
    "\n",
    "#         break\n",
    "# print(\"END\")"
   ]
  },
  {
   "cell_type": "code",
   "execution_count": null,
   "metadata": {},
   "outputs": [],
   "source": [
    "import socket\n",
    "import json\n",
    "import ast\n",
    "import threading\n",
    "import select\n",
    "import queue\n",
    "import pandas as pd\n",
    "import numpy as np"
   ]
  },
  {
   "cell_type": "code",
   "execution_count": null,
   "metadata": {},
   "outputs": [],
   "source": [
    "from pythonosc import dispatcher, osc_server\n",
    "from pythonosc.udp_client import SimpleUDPClient\n",
    "import time"
   ]
  },
  {
   "cell_type": "code",
   "execution_count": null,
   "metadata": {},
   "outputs": [],
   "source": [
    "class SaveAcquisition(object):\n",
    "    def __init__(self):\n",
    "        self.fileTxt = None\n",
    "        self.hasHeader = False\n",
    " \n",
    "    def start(self):\n",
    "        self.fileTxt = open(\"tcp_py3_Acquisition.txt\", \"w\")\n",
    " \n",
    "    def addData(self, data):\n",
    "        self.fileTxt.write(data)\n",
    "        self.hasHeader = True\n",
    " \n",
    "    def stop(self):\n",
    "        self.fileTxt.close()\n",
    " \n",
    "    def getHasHeader(self):\n",
    "        return self.hasHeader\n",
    " "
   ]
  },
  {
   "cell_type": "code",
   "execution_count": null,
   "metadata": {},
   "outputs": [],
   "source": [
    "from pythonosc.udp_client import SimpleUDPClient\n",
    "osc_ip = \"192.168.1.85\"\n",
    "osc_port = 8000\n",
    "# client = SimpleUDPClient(osc_ip, osc_port)  # Create client\n",
    "# self.osc_client.send_message(\"/actuator/1/inflate\", -0.0)"
   ]
  },
  {
   "cell_type": "code",
   "execution_count": null,
   "metadata": {},
   "outputs": [],
   "source": [
    "class DataBuffer(object):\n",
    "    def __init__(self):\n",
    "        self.data = []\n",
    "        self.isFull = False\n",
    "        self.size = 5000\n",
    "        self.osc_ip = \"192.168.1.85\"\n",
    "        self.osc_port = 8000\n",
    "        self.osc_client = SimpleUDPClient(self.osc_ip, self.osc_port)  # Create client\n",
    "\n",
    "dbuff = DataBuffer()"
   ]
  },
  {
   "cell_type": "code",
   "execution_count": null,
   "metadata": {},
   "outputs": [],
   "source": [
    "class TCPClient(object):\n",
    "    def __init__(self):\n",
    "        # self.tcpIp = ''\n",
    "        self.tcpPort = 3333\n",
    "        self.tcpIp = 'localhost'\n",
    " \n",
    "        self.buffer_size = 99999\n",
    "        self.socket = socket.socket(socket.AF_INET, socket.SOCK_STREAM)\n",
    "        self.inputCheck = []\n",
    "        self.outputCheck = []\n",
    "        self.isChecking = False\n",
    "        self.isAcquiring = False\n",
    "        self.msgQueue = queue.Queue()\n",
    " \n",
    "        self.txtFile = SaveAcquisition()\n",
    " \n",
    "    def connect(self):\n",
    "        self.socket.connect((self.tcpIp, self.tcpPort))\n",
    "        self.outputCheck.append(self.socket)\n",
    "        self.isChecking = True\n",
    " \n",
    "    def start(self):\n",
    "        print(\"XX \", self.isChecking)\n",
    "        thread = threading.Thread(target=self.msgChecker)\n",
    "        thread.daemon = True\n",
    "        thread.start()\n",
    " \n",
    "    def stop(self):\n",
    "        self.isChecking = False\n",
    "        self.socket.close()\n",
    " \n",
    "    def msgChecker(self):\n",
    "        global dbuff\n",
    "        while self.isChecking:\n",
    "            readable, writable, exceptional = select.select(self.inputCheck, self.outputCheck, self.inputCheck)\n",
    "            \n",
    "            \n",
    "            for s in readable:\n",
    "                message = s.recv(self.buffer_size)\n",
    "                if not self.isAcquiring:\n",
    "                    #print(message)\n",
    "                    self.inputCheck = []\n",
    "                else:\n",
    "                    #print(message)\n",
    "                    message = json.loads(message.decode('utf8'))\n",
    "                    message = message[\"returnData\"]\n",
    "                    if not self.txtFile.getHasHeader():\n",
    "                        newLine = json.dumps(message) + \"\\n\"\n",
    "                        self.txtFile.addData(newLine)\n",
    "                    else:\n",
    "                        dataframe = []\n",
    "                        for device in list(message.keys()):\n",
    "                            dataframe.append(pd.DataFrame(message[device]))\n",
    "                        dataframe = pd.concat(dataframe, axis=1, ignore_index=True)\n",
    "                        for line in dataframe.values:\n",
    "                            self.txtFile.addData('\\n')\n",
    "                            self.txtFile.addData(\",\".join([str(x) for x in line]))\n",
    "                           \n",
    "                            #TODO Rolling list up to the defined size\n",
    "                            if not dbuff.isFull:\n",
    "                                if len(dbuff.data) < dbuff.size:\n",
    "                                    dbuff.data.append([float(x) for x in line])\n",
    "                                else:\n",
    "                                    dbuff.isFull = True\n",
    "                                    dbuff.data.append(dbuff.data.pop(0))\n",
    "                                    datapoint = ([float(x) for x in line])\n",
    "                                    dbuff.data[-1] = datapoint\n",
    "                                    dbuff.osc_client.send_message(\"/oscpy/\", datapoint)\n",
    "\n",
    "                                \n",
    "                            else:\n",
    "                                dbuff.data.append(dbuff.data.pop(0))\n",
    "                                datapoint = ([float(x) for x in line])\n",
    "                                dbuff.data[-1] = datapoint\n",
    "                                dbuff.osc_client.send_message(\"/oscpy/\", datapoint)\n",
    " \n",
    "            for s in writable:\n",
    "                try:\n",
    "                    next_msg = self.msgQueue.get_nowait()\n",
    "                except queue.Empty:\n",
    "                    pass\n",
    "                else:\n",
    "                    print(\"send \")\n",
    "                    self.socket.send(next_msg.encode('utf-8'))\n",
    " \n",
    "            for s in exceptional:\n",
    "                print(\"exceptional \", s)\n",
    " \n",
    "    def addMsgToSend(self, data):\n",
    "        self.msgQueue.put(data)\n",
    "        if self.socket not in self.outputCheck:\n",
    "            self.outputCheck.append(self.socket)\n",
    "        if self.socket not in self.inputCheck:\n",
    "            self.inputCheck.append(self.socket)\n",
    " \n",
    "    def setIsAcquiring(self, isAcquiring):\n",
    "        self.isAcquiring = isAcquiring\n",
    "        if self.isAcquiring:\n",
    "            self.txtFile = SaveAcquisition()\n",
    "            self.txtFile.start()\n",
    "        else:\n",
    "            self.txtFile.stop()\n",
    "            \n",
    "    def collectBuffer(self, isAcquiring):\n",
    "        if self.isAcquiring:\n",
    "            self.txtFile = SaveAcquisition()\n",
    "            self.txtFile.start()\n",
    "        else:\n",
    "            self.txtFile.stop()"
   ]
  },
  {
   "cell_type": "code",
   "execution_count": null,
   "metadata": {},
   "outputs": [],
   "source": [
    "CONNECTION = TCPClient()\n",
    "CONNECTION.connect()\n",
    "t0 = time.time()\n"
   ]
  },
  {
   "cell_type": "code",
   "execution_count": null,
   "metadata": {},
   "outputs": [],
   "source": [
    "CONNECTION.setIsAcquiring(True)\n",
    "new_msg = 'start'\n",
    "CONNECTION.start()\n",
    "CONNECTION.addMsgToSend(new_msg)"
   ]
  },
  {
   "cell_type": "code",
   "execution_count": null,
   "metadata": {},
   "outputs": [],
   "source": [
    "new_msg = 'stop'\n",
    "CONNECTION.setIsAcquiring(False)\n",
    "CONNECTION.addMsgToSend(new_msg)"
   ]
  },
  {
   "cell_type": "code",
   "execution_count": null,
   "metadata": {},
   "outputs": [],
   "source": [
    "dbuff.data"
   ]
  },
  {
   "cell_type": "code",
   "execution_count": null,
   "metadata": {},
   "outputs": [],
   "source": [
    "# dbuff.data.append([12.0, 0.0, 0.0, 0.0, 0.0, 1.183, 20.7])"
   ]
  },
  {
   "cell_type": "code",
   "execution_count": null,
   "metadata": {},
   "outputs": [],
   "source": [
    "len(dbuff.data)"
   ]
  },
  {
   "cell_type": "code",
   "execution_count": null,
   "metadata": {},
   "outputs": [],
   "source": [
    "dbuff.data[-1]"
   ]
  },
  {
   "cell_type": "code",
   "execution_count": null,
   "metadata": {},
   "outputs": [],
   "source": [
    "CONNECTION.stop()"
   ]
  },
  {
   "cell_type": "code",
   "execution_count": null,
   "metadata": {},
   "outputs": [],
   "source": []
  },
  {
   "cell_type": "code",
   "execution_count": null,
   "metadata": {},
   "outputs": [],
   "source": []
  },
  {
   "cell_type": "code",
   "execution_count": null,
   "metadata": {},
   "outputs": [],
   "source": [
    "# #ak 192.168.0.106\n",
    "# ip_tcp = \"192.168.1.85\"\n",
    "# port = 32000"
   ]
  },
  {
   "cell_type": "code",
   "execution_count": null,
   "metadata": {},
   "outputs": [],
   "source": [
    "# from pythonosc import dispatcher, osc_server\n",
    "# from pythonosc.udp_client import SimpleUDPClient\n",
    "# import time\n",
    "\n",
    "# deflating = False\n",
    "\n",
    "# def print_volume_handler(unused_addr, args, volume):\n",
    "#     global deflating, deflateStartTime\n",
    "    \n",
    "#     print(\"[{0}] ~ {1}\".format(args, volume))\n",
    "    \n",
    "#     if (volume > 1090 or deflating):\n",
    "#         client.send_message(\"/actuator/1/inflate\", -80.0)   # Send float message between -100 and 100\n",
    "        \n",
    "#         if deflating == False:\n",
    "#             deflating = True\n",
    "#             deflateStartTime = time.time()\n",
    "        \n",
    "#         elif time.time() - deflateStartTime > 5:\n",
    "#             deflating = False\n",
    "            \n",
    "#     elif deflating == False:\n",
    "#         client.send_message(\"/actuator/1/inflate\", 80.0)   # Send float message between -100 and 100\n",
    "\n",
    "\n",
    "# deflateStartTime = time.time()\n",
    "    \n",
    "# ip = \"192.168.0.106\"\n",
    "# port = 32000\n",
    "\n",
    "# client = SimpleUDPClient(ip, port)  # Create client\n",
    "    \n",
    "# dispatcher = dispatcher.Dispatcher()\n",
    "# dispatcher.map(\"/sensor/pressure\", print_volume_handler, \"Pressure\")\n",
    "\n",
    "# server = osc_server.ThreadingOSCUDPServer((\"192.168.0.106\", 31000), dispatcher)\n",
    "# print(\"Serving on {}\".format(server.server_address))\n",
    "# server.serve_forever()"
   ]
  },
  {
   "cell_type": "code",
   "execution_count": null,
   "metadata": {},
   "outputs": [],
   "source": [
    "# from pythonosc.udp_client import SimpleUDPClient\n",
    "\n",
    "# ip = \"192.168.0.106\"\n",
    "# port = 32000\n",
    "\n",
    "# client = SimpleUDPClient(ip, port)  # Create client\n",
    "\n",
    "# client.send_message(\"/actuator/1/inflate\", -0.0)\n"
   ]
  }
 ],
 "metadata": {
  "kernelspec": {
   "display_name": "Python 3",
   "language": "python",
   "name": "python3"
  },
  "language_info": {
   "codemirror_mode": {
    "name": "ipython",
    "version": 3
   },
   "file_extension": ".py",
   "mimetype": "text/x-python",
   "name": "python",
   "nbconvert_exporter": "python",
   "pygments_lexer": "ipython3",
   "version": "3.7.1"
  }
 },
 "nbformat": 4,
 "nbformat_minor": 2
}
