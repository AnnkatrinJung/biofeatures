{
 "cells": [
  {
   "cell_type": "code",
   "execution_count": 2,
   "metadata": {},
   "outputs": [],
   "source": [
    "import biosppy.signals.resp as resp\n",
    "import numpy as np\n",
    "import csv as csv\n",
    "import json    \n",
    "import matplotlib.pyplot as plt\n",
    "\n",
    "\n",
    "def calc_resp_intervals(data, last_breath = False):\n",
    "    processed_data = resp.resp(signal=data, sampling_rate=200, show=False)\n",
    "    filtered_signal = processed_data[1]\n",
    "    inst_resp_rate = processed_data[4]\n",
    "    \n",
    "    signal_diff = np.diff(filtered_signal)\n",
    "    signal_signum = signal_diff > 0\n",
    "    \n",
    "    resp_changes = np.append(np.where(signal_signum[:-1] != signal_signum[1:])[0], [len(signal_signum) - 1])\n",
    "    \n",
    "    if not last_breath:\n",
    "        resp_intervals = np.append([0], resp_changes)\n",
    "    \n",
    "        interval_lengths = np.diff(resp_intervals)\n",
    "    \n",
    "        interval_breathe_in = [signal_signum[i] for i in resp_changes]\n",
    "        \n",
    "        return interval_lengths, interval_breathe_in\n",
    "    \n",
    "    else:\n",
    "        last_interval = resp_changes[-1] - resp_changes[-2]\n",
    "        \n",
    "        return last_interval, signal_signum[resp_changes[-1]]\n",
    "        "
   ]
  },
  {
   "cell_type": "code",
   "execution_count": 6,
   "metadata": {},
   "outputs": [],
   "source": [
    "# resp_intervals: length of inhalation/exhalation in samples\n",
    "# is_inhalation: True -> inhale, False: exhale\n",
    "def resp_features(resp_intervals, is_inhalation, samplingRate):\n",
    "    \n",
    "    # calculate the average breath length in s\n",
    "    breath_lengths = []\n",
    "    i = 0\n",
    "\n",
    "    while i < len(resp_intervals):\n",
    "        if not is_inhalation[i] or i == len(resp_intervals) - 1 :\n",
    "            breath_lengths.append(resp_intervals[i])\n",
    "            i = i + 1\n",
    "        else:\n",
    "            breath_lengths.append(resp_intervals[i] + resp_intervals[i + 1])\n",
    "            i = i + 2\n",
    "    \n",
    "    avg_breath = np.average(breath_lengths) / samplingRate\n",
    "    \n",
    "    # calculate the inhalation/exhalation ratio\n",
    "    breathe_in_len = 0\n",
    "    breathe_out_len = 0\n",
    "    \n",
    "    for i in range(len(interval_lengths)):\n",
    "        if interval_breathe_in[i]:\n",
    "            breathe_in_len += interval_lengths[i]\n",
    "        else:\n",
    "            breathe_out_len += interval_lengths[i]\n",
    "    \n",
    "    in_out_ratio = breathe_in_len/breathe_out_len\n",
    "    \n",
    "    features = {'breath_avg_len': avg_breath, 'inhale_duration': breathe_in_len / samplingRate, \n",
    "                'exhale_duration': breathe_out_len / samplingRate, 'inhale_exhale_ratio': in_out_ratio}\n",
    "    \n",
    "    return features\n",
    "    "
   ]
  },
  {
   "cell_type": "code",
   "execution_count": 4,
   "metadata": {},
   "outputs": [],
   "source": [
    "fname = '../riot_rip_acquisition/ak/opensignals_192.168.1.1008888_2020-02-05_11-54-42.txt'\n",
    "data = np.genfromtxt(fname)\n",
    "col_num  = 5\n",
    "ripdata = data[:,col_num]"
   ]
  },
  {
   "cell_type": "code",
   "execution_count": 7,
   "metadata": {},
   "outputs": [],
   "source": [
    "interval_lengths, interval_breathe_in = calc_resp_intervals(ripdata)\n",
    "\n",
    "resp_features = resp_features(interval_lengths, interval_breathe_in, 200)"
   ]
  },
  {
   "cell_type": "code",
   "execution_count": 8,
   "metadata": {},
   "outputs": [
    {
     "data": {
      "text/plain": [
       "{'breath_avg_len': 3.488985507246377,\n",
       " 'inhale_duration': 124.875,\n",
       " 'exhale_duration': 115.865,\n",
       " 'inhale_exhale_ratio': 1.0777629137358131}"
      ]
     },
     "execution_count": 8,
     "metadata": {},
     "output_type": "execute_result"
    }
   ],
   "source": [
    "resp_features"
   ]
  },
  {
   "cell_type": "code",
   "execution_count": null,
   "metadata": {},
   "outputs": [],
   "source": []
  }
 ],
 "metadata": {
  "kernelspec": {
   "display_name": "Python 3",
   "language": "python",
   "name": "python3"
  },
  "language_info": {
   "codemirror_mode": {
    "name": "ipython",
    "version": 3
   },
   "file_extension": ".py",
   "mimetype": "text/x-python",
   "name": "python",
   "nbconvert_exporter": "python",
   "pygments_lexer": "ipython3",
   "version": "3.7.4"
  }
 },
 "nbformat": 4,
 "nbformat_minor": 2
}
