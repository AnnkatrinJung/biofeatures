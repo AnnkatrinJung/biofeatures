{
 "cells": [
  {
   "cell_type": "code",
   "execution_count": 75,
   "metadata": {},
   "outputs": [],
   "source": [
    "import pyhrv, hrvanalysis\n",
    "\n",
    "\n",
    "def calc_features(intervals, samplingRate, pyHRV=True):\n",
    "    \n",
    "    features = {}\n",
    "    \n",
    "    if pyHRV:\n",
    "        rr_features = pyhrv.time_domain.nni_parameters(nni=intervals)\n",
    "        hr_features = pyhrv.time_domain.hr_parameters(nni=intervals)\n",
    "        rmssd = pyhrv.time_domain.rmssd(nni=intervals)\n",
    "        freq_features = pyhrv.frequency_domain.welch_psd(nni=intervals, show=False, mode='dev')\n",
    "        \n",
    "        features.update({'nni_mean': rr_features['nni_mean'], 'hr_mean': hr_features['hr_mean'], \n",
    "                        'hr_std': hr_features['hr_std'], 'rmssd': rmssd['rmssd'],\n",
    "                        'lf': freq_features[0]['fft_abs'][1], 'hf': freq_features[0]['fft_abs'][2],\n",
    "                        'LF/HF ratio': freq_features[0]['fft_ratio']})     \n",
    " \n",
    "    else:\n",
    "        time_features = hrvanalysis.get_time_domain_features(intervals)\n",
    "        freq_features = hrvanalysis.get_frequency_domain_features(intervals)\n",
    "\n",
    "        features.update({'nni_mean': time_features['mean_nni'], 'hr_mean': time_features['mean_hr'], \n",
    "                        'hr_std': time_features['std_hr'], 'rmssd': time_features['rmssd'],\n",
    "                        'lf': freq_features['lf'], 'hf': freq_features['hf'],\n",
    "                        'LF/HF ratio': freq_features['lf_hf_ratio']})\n",
    "        \n",
    "    return features\n",
    "        "
   ]
  },
  {
   "cell_type": "code",
   "execution_count": 76,
   "metadata": {},
   "outputs": [],
   "source": [
    "import wfdb\n",
    "from ecgdetectors import Detectors\n",
    "\n",
    "sig, fields = wfdb.rdsamp(\"Sensor data/100\")\n",
    "ecg_30min = sig[:, 0]\n",
    "sr = fields[\"fs\"]\n",
    "\n",
    "det = Detectors(sr)\n",
    "pyecg_peaks = det.swt_detector(ecg_30min)\n",
    "pyecg_intervals = [4 * (pyecg_peaks[i] - pyecg_peaks[i-1]) for i in range(1,len(pyecg_peaks))]\n"
   ]
  },
  {
   "cell_type": "code",
   "execution_count": 77,
   "metadata": {},
   "outputs": [],
   "source": [
    "pyhrv_feat = calc_features(intervals=pyecg_intervals, samplingRate=sr, pyHRV=False)"
   ]
  },
  {
   "cell_type": "code",
   "execution_count": 315,
   "metadata": {},
   "outputs": [
    {
     "name": "stdout",
     "output_type": "stream",
     "text": [
      "Data processing crashed\n"
     ]
    }
   ],
   "source": [
    "import time\n",
    "from bitalino import BITalino\n",
    "import biosignalsnotebooks as bsnb\n",
    "\n",
    "macAddress = \"/dev/tty.BITalino-DevB\"\n",
    "\n",
    "# This example will collect data for 60 sec.\n",
    "running_time = 10\n",
    "    \n",
    "acqChannels = [1]\n",
    "samplingRate = 100\n",
    "nSamples = 100\n",
    "\n",
    "# Calculate features every 10 seconds\n",
    "feature_interval = 10\n",
    "feature_time = 0\n",
    "\n",
    "det = Detectors(samplingRate)\n",
    "\n",
    "# Connect to BITalino\n",
    "device = BITalino(macAddress)\n",
    "\n",
    "# Start Acquisition\n",
    "device.start(samplingRate, acqChannels)\n",
    "\n",
    "start = time.time()\n",
    "end = time.time()\n",
    "\n",
    "data = []\n",
    "features = []\n",
    "\n",
    "try:\n",
    "    while (end - start) < running_time:\n",
    "        new_samples = device.read(nSamples)\n",
    "        new_signal = [s[-2] for s in new_samples]\n",
    "    \n",
    "        data += new_signal\n",
    "        \n",
    "        if feature_time > 0:\n",
    "            data = data[-samplingRate*5*60:]\n",
    "\n",
    "            peaks = det.swt_detector(data)\n",
    "            intervals = [4 * (peaks[i] - peaks[i-1]) for i in range(1,len(peaks))]\n",
    "\n",
    "            new_features = calc_features(intervals=intervals, samplingRate=samplingRate)\n",
    "            features += new_features\n",
    "            print(new_features)\n",
    "            \n",
    "            feature_time = 0\n",
    "        \n",
    "        feature_time += time.time() - end\n",
    "        end = time.time()\n",
    "\n",
    "except:\n",
    "    print(\"Data processing crashed\")\n",
    "\n",
    "finally:   \n",
    "    # Stop acquisition\n",
    "    device.stop()\n",
    "    \n",
    "    # Close connection\n",
    "    device.close()"
   ]
  },
  {
   "cell_type": "code",
   "execution_count": 331,
   "metadata": {},
   "outputs": [
    {
     "name": "stdout",
     "output_type": "stream",
     "text": [
      "Execution time of loop:  2.0435101985931396\n",
      "Execution time of loop:  0.9806599617004395\n",
      "Execution time of loop:  1.2654359340667725\n",
      "Execution time of loop:  1.0006349086761475\n",
      "Execution time of loop:  0.9148080348968506\n",
      "Execution time of loop:  0.9032497406005859\n",
      "Execution time of loop:  1.031449794769287\n",
      "Execution time of loop:  0.8354768753051758\n",
      "Execution time of loop:  0.8834528923034668\n",
      "Execution time of loop:  0.5663201808929443\n",
      "11\n",
      "{'nni_mean': 961.8181818181819, 'hr_mean': 63.09979500366192, 'hr_std': 7.055050980371769, 'rmssd': 105.64090116995405, 'lf': 2541.5862961479097, 'hf': 4975.489021211901, 'LF/HF ratio': 0.5108214057577892}\n",
      "Execution time of loop:  0.8041689395904541\n",
      "Execution time of loop:  0.9568009376525879\n",
      "Execution time of loop:  0.9381928443908691\n",
      "Execution time of loop:  1.0728909969329834\n",
      "Execution time of loop:  0.9693818092346191\n",
      "Execution time of loop:  0.9558000564575195\n",
      "Execution time of loop:  0.9886348247528076\n",
      "Execution time of loop:  1.0372722148895264\n",
      "Execution time of loop:  1.0434298515319824\n",
      "Execution time of loop:  1.0111382007598877\n",
      "Execution time of loop:  0.9874439239501953\n",
      "22\n",
      "{'nni_mean': 964.0909090909091, 'hr_mean': 63.01791433752867, 'hr_std': 7.223444978425152, 'rmssd': 123.48124978157229, 'lf': 1989.9414226997947, 'hf': 9182.161756978376, 'LF/HF ratio': 0.21671818416697503}\n",
      "Execution time of loop:  0.976729154586792\n",
      "Execution time of loop:  0.976395845413208\n",
      "Execution time of loop:  0.9708149433135986\n",
      "Execution time of loop:  1.0173187255859375\n",
      "Execution time of loop:  0.9827499389648438\n",
      "Execution time of loop:  1.059340000152588\n",
      "Execution time of loop:  0.951409101486206\n",
      "Execution time of loop:  1.0384221076965332\n",
      "Execution time of loop:  1.0221221446990967\n",
      "Execution time of loop:  0.9277980327606201\n",
      "Execution time of loop:  1.0148210525512695\n",
      "33\n",
      "{'nni_mean': 978.7878787878788, 'hr_mean': 61.91487827495932, 'hr_std': 6.396076488019015, 'rmssd': 107.8337841309485, 'lf': 3208.9904271580485, 'hf': 6373.188582456072, 'LF/HF ratio': 0.5035141178768292}\n",
      "Execution time of loop:  1.0147321224212646\n",
      "Execution time of loop:  0.9635140895843506\n",
      "Execution time of loop:  1.0680010318756104\n",
      "Execution time of loop:  0.9460649490356445\n",
      "Execution time of loop:  1.0324351787567139\n",
      "Execution time of loop:  0.9564816951751709\n",
      "Execution time of loop:  1.042769193649292\n",
      "Execution time of loop:  0.9799981117248535\n",
      "Execution time of loop:  0.9720509052276611\n",
      "Execution time of loop:  1.0210092067718506\n",
      "Execution time of loop:  0.9887149333953857\n",
      "44\n",
      "{'nni_mean': 985.9090909090909, 'hr_mean': 61.394736913782864, 'hr_std': 5.976083745475834, 'rmssd': 102.85460498899337, 'lf': 2299.642848467502, 'hf': 3516.3276887185134, 'LF/HF ratio': 0.6539899156285919}\n",
      "Execution time of loop:  1.1244769096374512\n",
      "Execution time of loop:  0.9901218414306641\n",
      "Execution time of loop:  0.8884427547454834\n",
      "Execution time of loop:  1.0113518238067627\n",
      "Execution time of loop:  1.0057830810546875\n",
      "Execution time of loop:  1.0099897384643555\n",
      "Execution time of loop:  0.9660439491271973\n",
      "Execution time of loop:  0.9972550868988037\n",
      "Execution time of loop:  1.077439785003662\n",
      "Execution time of loop:  0.9333541393280029\n",
      "55\n",
      "{'nni_mean': 973.6363636363636, 'hr_mean': 62.74989618311822, 'hr_std': 10.800340994225982, 'rmssd': 121.42670400057989, 'lf': 1840.355657199685, 'hf': 2688.837382858244, 'LF/HF ratio': 0.6844429004640586}\n",
      "Execution time of loop:  1.0377111434936523\n",
      "Execution time of loop:  0.9606750011444092\n",
      "Execution time of loop:  0.9832191467285156\n",
      "Execution time of loop:  1.0510282516479492\n",
      "Execution time of loop:  0.9665091037750244\n",
      "Execution time of loop:  0.9838829040527344\n",
      "Execution time of loop:  1.0259249210357666\n",
      "Execution time of loop:  0.9844892024993896\n",
      "Execution time of loop:  0.9987530708312988\n",
      "Execution time of loop:  1.0637850761413574\n",
      "65\n",
      "{'nni_mean': 977.6923076923077, 'hr_mean': 61.848066071235074, 'hr_std': 5.6368963626862145, 'rmssd': 98.96337706444743, 'lf': 1493.7882565798075, 'hf': 2337.639928295669, 'LF/HF ratio': 0.6390155466196633}\n",
      "detected increase in anxiety\n",
      "inflating\n",
      "Execution time of loop:  0.9955990314483643\n",
      "Execution time of loop:  1.0190420150756836\n",
      "Execution time of loop:  0.9212238788604736\n",
      "Execution time of loop:  0.9898061752319336\n",
      "Execution time of loop:  1.028193712234497\n",
      "deflating\n",
      "Execution time of loop:  1.0884058475494385\n",
      "Execution time of loop:  0.9107840061187744\n",
      "Execution time of loop:  1.0020420551300049\n",
      "Execution time of loop:  0.9812538623809814\n",
      "Execution time of loop:  0.9884829521179199\n",
      "Execution time of loop:  1.0256719589233398\n",
      "77\n",
      "{'nni_mean': 968.7012987012987, 'hr_mean': 62.753852453768204, 'hr_std': 8.805676383905885, 'rmssd': 101.19028453468508, 'lf': 1273.9853396573958, 'hf': 2053.598206016081, 'LF/HF ratio': 0.6203673804959585}\n",
      "detected increase in anxiety\n",
      "inflating\n",
      "Execution time of loop:  1.075314998626709\n",
      "Execution time of loop:  0.9923381805419922\n",
      "Execution time of loop:  0.9298009872436523\n",
      "Execution time of loop:  1.044719934463501\n",
      "Execution time of loop:  0.9272770881652832\n",
      "Execution time of loop:  1.0100221633911133\n",
      "deflating\n",
      "Execution time of loop:  1.0243349075317383\n",
      "Execution time of loop:  0.9886839389801025\n",
      "Execution time of loop:  0.9777729511260986\n",
      "Execution time of loop:  1.0102741718292236\n",
      "Execution time of loop:  1.069145917892456\n",
      "88\n",
      "{'nni_mean': 972.1590909090909, 'hr_mean': 62.097345691702486, 'hr_std': 4.949669945184051, 'rmssd': 85.98984168820884, 'lf': 1214.4037194706489, 'hf': 1853.6137046441895, 'LF/HF ratio': 0.6551546940055452}\n",
      "detected increase in anxiety\n",
      "inflating\n",
      "Execution time of loop:  0.9633147716522217\n",
      "Execution time of loop:  0.9691479206085205\n",
      "Execution time of loop:  0.9877188205718994\n",
      "Execution time of loop:  1.0197460651397705\n",
      "Execution time of loop:  0.9967119693756104\n",
      "Execution time of loop:  1.0248939990997314\n",
      "deflating\n",
      "Execution time of loop:  0.9948830604553223\n",
      "Execution time of loop:  1.0550189018249512\n",
      "Execution time of loop:  0.9367270469665527\n",
      "Execution time of loop:  0.9765708446502686\n"
     ]
    },
    {
     "ename": "KeyboardInterrupt",
     "evalue": "",
     "output_type": "error",
     "traceback": [
      "\u001b[0;31m---------------------------------------------------------------------------\u001b[0m",
      "\u001b[0;31mKeyboardInterrupt\u001b[0m                         Traceback (most recent call last)",
      "\u001b[0;32m<ipython-input-331-811a53ecae86>\u001b[0m in \u001b[0;36m<module>\u001b[0;34m\u001b[0m\n\u001b[1;32m     33\u001b[0m         \u001b[0mstart_loop\u001b[0m \u001b[0;34m=\u001b[0m \u001b[0mtime\u001b[0m\u001b[0;34m.\u001b[0m\u001b[0mtime\u001b[0m\u001b[0;34m(\u001b[0m\u001b[0;34m)\u001b[0m\u001b[0;34m\u001b[0m\u001b[0;34m\u001b[0m\u001b[0m\n\u001b[1;32m     34\u001b[0m \u001b[0;34m\u001b[0m\u001b[0m\n\u001b[0;32m---> 35\u001b[0;31m         \u001b[0mnew_samples\u001b[0m \u001b[0;34m=\u001b[0m \u001b[0mdevice\u001b[0m\u001b[0;34m.\u001b[0m\u001b[0mread\u001b[0m\u001b[0;34m(\u001b[0m\u001b[0mnSamples\u001b[0m\u001b[0;34m)\u001b[0m\u001b[0;34m\u001b[0m\u001b[0;34m\u001b[0m\u001b[0m\n\u001b[0m\u001b[1;32m     36\u001b[0m         \u001b[0mnew_signal\u001b[0m \u001b[0;34m=\u001b[0m \u001b[0;34m[\u001b[0m\u001b[0ms\u001b[0m\u001b[0;34m[\u001b[0m\u001b[0;34m-\u001b[0m\u001b[0;36m1\u001b[0m\u001b[0;34m]\u001b[0m \u001b[0;32mfor\u001b[0m \u001b[0ms\u001b[0m \u001b[0;32min\u001b[0m \u001b[0mnew_samples\u001b[0m\u001b[0;34m]\u001b[0m\u001b[0;34m\u001b[0m\u001b[0;34m\u001b[0m\u001b[0m\n\u001b[1;32m     37\u001b[0m \u001b[0;34m\u001b[0m\u001b[0m\n",
      "\u001b[0;32m~/opt/anaconda3/lib/python3.7/site-packages/bitalino.py\u001b[0m in \u001b[0;36mread\u001b[0;34m(self, nSamples)\u001b[0m\n\u001b[1;32m    452\u001b[0m             \u001b[0mdataAcquired\u001b[0m \u001b[0;34m=\u001b[0m \u001b[0mnumpy\u001b[0m\u001b[0;34m.\u001b[0m\u001b[0mzeros\u001b[0m\u001b[0;34m(\u001b[0m\u001b[0;34m(\u001b[0m\u001b[0mnSamples\u001b[0m\u001b[0;34m,\u001b[0m \u001b[0;36m5\u001b[0m \u001b[0;34m+\u001b[0m \u001b[0mnChannels\u001b[0m\u001b[0;34m)\u001b[0m\u001b[0;34m)\u001b[0m\u001b[0;34m\u001b[0m\u001b[0;34m\u001b[0m\u001b[0m\n\u001b[1;32m    453\u001b[0m             \u001b[0;32mfor\u001b[0m \u001b[0msample\u001b[0m \u001b[0;32min\u001b[0m \u001b[0mrange\u001b[0m\u001b[0;34m(\u001b[0m\u001b[0mnSamples\u001b[0m\u001b[0;34m)\u001b[0m\u001b[0;34m:\u001b[0m\u001b[0;34m\u001b[0m\u001b[0;34m\u001b[0m\u001b[0m\n\u001b[0;32m--> 454\u001b[0;31m                 \u001b[0mData\u001b[0m \u001b[0;34m=\u001b[0m \u001b[0mself\u001b[0m\u001b[0;34m.\u001b[0m\u001b[0mreceive\u001b[0m\u001b[0;34m(\u001b[0m\u001b[0mnumber_bytes\u001b[0m\u001b[0;34m)\u001b[0m\u001b[0;34m\u001b[0m\u001b[0;34m\u001b[0m\u001b[0m\n\u001b[0m\u001b[1;32m    455\u001b[0m                 \u001b[0mdecodedData\u001b[0m \u001b[0;34m=\u001b[0m \u001b[0mlist\u001b[0m\u001b[0;34m(\u001b[0m\u001b[0mstruct\u001b[0m\u001b[0;34m.\u001b[0m\u001b[0munpack\u001b[0m\u001b[0;34m(\u001b[0m\u001b[0mnumber_bytes\u001b[0m \u001b[0;34m*\u001b[0m \u001b[0;34m\"B \"\u001b[0m\u001b[0;34m,\u001b[0m \u001b[0mData\u001b[0m\u001b[0;34m)\u001b[0m\u001b[0;34m)\u001b[0m\u001b[0;34m\u001b[0m\u001b[0;34m\u001b[0m\u001b[0m\n\u001b[1;32m    456\u001b[0m                 \u001b[0mcrc\u001b[0m \u001b[0;34m=\u001b[0m \u001b[0mdecodedData\u001b[0m\u001b[0;34m[\u001b[0m\u001b[0;34m-\u001b[0m\u001b[0;36m1\u001b[0m\u001b[0;34m]\u001b[0m \u001b[0;34m&\u001b[0m \u001b[0;36m0x0F\u001b[0m\u001b[0;34m\u001b[0m\u001b[0;34m\u001b[0m\u001b[0m\n",
      "\u001b[0;32m~/opt/anaconda3/lib/python3.7/site-packages/bitalino.py\u001b[0m in \u001b[0;36mreceive\u001b[0;34m(self, nbytes)\u001b[0m\n\u001b[1;32m    530\u001b[0m                         \u001b[0;32mif\u001b[0m \u001b[0;34m(\u001b[0m\u001b[0mfinTime\u001b[0m \u001b[0;34m-\u001b[0m \u001b[0minitTime\u001b[0m\u001b[0;34m)\u001b[0m \u001b[0;34m>\u001b[0m \u001b[0mself\u001b[0m\u001b[0;34m.\u001b[0m\u001b[0mtimeout\u001b[0m\u001b[0;34m:\u001b[0m\u001b[0;34m\u001b[0m\u001b[0;34m\u001b[0m\u001b[0m\n\u001b[1;32m    531\u001b[0m                             \u001b[0;32mraise\u001b[0m \u001b[0mException\u001b[0m\u001b[0;34m(\u001b[0m\u001b[0mExceptionCode\u001b[0m\u001b[0;34m.\u001b[0m\u001b[0mCONTACTING_DEVICE\u001b[0m\u001b[0;34m)\u001b[0m\u001b[0;34m\u001b[0m\u001b[0;34m\u001b[0m\u001b[0m\n\u001b[0;32m--> 532\u001b[0;31m                 \u001b[0mdata\u001b[0m \u001b[0;34m+=\u001b[0m \u001b[0mself\u001b[0m\u001b[0;34m.\u001b[0m\u001b[0msocket\u001b[0m\u001b[0;34m.\u001b[0m\u001b[0mread\u001b[0m\u001b[0;34m(\u001b[0m\u001b[0;36m1\u001b[0m\u001b[0;34m)\u001b[0m\u001b[0;34m\u001b[0m\u001b[0;34m\u001b[0m\u001b[0m\n\u001b[0m\u001b[1;32m    533\u001b[0m         \u001b[0;32melse\u001b[0m\u001b[0;34m:\u001b[0m\u001b[0;34m\u001b[0m\u001b[0;34m\u001b[0m\u001b[0m\n\u001b[1;32m    534\u001b[0m             \u001b[0;32mwhile\u001b[0m \u001b[0mlen\u001b[0m\u001b[0;34m(\u001b[0m\u001b[0mdata\u001b[0m\u001b[0;34m)\u001b[0m \u001b[0;34m<\u001b[0m \u001b[0mnbytes\u001b[0m\u001b[0;34m:\u001b[0m\u001b[0;34m\u001b[0m\u001b[0;34m\u001b[0m\u001b[0m\n",
      "\u001b[0;32m~/opt/anaconda3/lib/python3.7/site-packages/serial/serialposix.py\u001b[0m in \u001b[0;36mread\u001b[0;34m(self, size)\u001b[0m\n\u001b[1;32m    481\u001b[0m         \u001b[0;32mwhile\u001b[0m \u001b[0mlen\u001b[0m\u001b[0;34m(\u001b[0m\u001b[0mread\u001b[0m\u001b[0;34m)\u001b[0m \u001b[0;34m<\u001b[0m \u001b[0msize\u001b[0m\u001b[0;34m:\u001b[0m\u001b[0;34m\u001b[0m\u001b[0;34m\u001b[0m\u001b[0m\n\u001b[1;32m    482\u001b[0m             \u001b[0;32mtry\u001b[0m\u001b[0;34m:\u001b[0m\u001b[0;34m\u001b[0m\u001b[0;34m\u001b[0m\u001b[0m\n\u001b[0;32m--> 483\u001b[0;31m                 \u001b[0mready\u001b[0m\u001b[0;34m,\u001b[0m \u001b[0m_\u001b[0m\u001b[0;34m,\u001b[0m \u001b[0m_\u001b[0m \u001b[0;34m=\u001b[0m \u001b[0mselect\u001b[0m\u001b[0;34m.\u001b[0m\u001b[0mselect\u001b[0m\u001b[0;34m(\u001b[0m\u001b[0;34m[\u001b[0m\u001b[0mself\u001b[0m\u001b[0;34m.\u001b[0m\u001b[0mfd\u001b[0m\u001b[0;34m,\u001b[0m \u001b[0mself\u001b[0m\u001b[0;34m.\u001b[0m\u001b[0mpipe_abort_read_r\u001b[0m\u001b[0;34m]\u001b[0m\u001b[0;34m,\u001b[0m \u001b[0;34m[\u001b[0m\u001b[0;34m]\u001b[0m\u001b[0;34m,\u001b[0m \u001b[0;34m[\u001b[0m\u001b[0;34m]\u001b[0m\u001b[0;34m,\u001b[0m \u001b[0mtimeout\u001b[0m\u001b[0;34m.\u001b[0m\u001b[0mtime_left\u001b[0m\u001b[0;34m(\u001b[0m\u001b[0;34m)\u001b[0m\u001b[0;34m)\u001b[0m\u001b[0;34m\u001b[0m\u001b[0;34m\u001b[0m\u001b[0m\n\u001b[0m\u001b[1;32m    484\u001b[0m                 \u001b[0;32mif\u001b[0m \u001b[0mself\u001b[0m\u001b[0;34m.\u001b[0m\u001b[0mpipe_abort_read_r\u001b[0m \u001b[0;32min\u001b[0m \u001b[0mready\u001b[0m\u001b[0;34m:\u001b[0m\u001b[0;34m\u001b[0m\u001b[0;34m\u001b[0m\u001b[0m\n\u001b[1;32m    485\u001b[0m                     \u001b[0mos\u001b[0m\u001b[0;34m.\u001b[0m\u001b[0mread\u001b[0m\u001b[0;34m(\u001b[0m\u001b[0mself\u001b[0m\u001b[0;34m.\u001b[0m\u001b[0mpipe_abort_read_r\u001b[0m\u001b[0;34m,\u001b[0m \u001b[0;36m1000\u001b[0m\u001b[0;34m)\u001b[0m\u001b[0;34m\u001b[0m\u001b[0;34m\u001b[0m\u001b[0m\n",
      "\u001b[0;31mKeyboardInterrupt\u001b[0m: "
     ]
    }
   ],
   "source": [
    "macAddress = \"/dev/tty.BITalino-DevB\"\n",
    "\n",
    "# This example will collect data for 60 sec.\n",
    "running_time = 20 * 60\n",
    "    \n",
    "acqChannels = [1]\n",
    "samplingRate = 100\n",
    "nSamples = 100\n",
    "\n",
    "# Calculate features every 10 seconds\n",
    "feature_interval = 10\n",
    "feature_time = 0\n",
    "\n",
    "det = Detectors(samplingRate)\n",
    "\n",
    "# Connect to BITalino\n",
    "device = BITalino(macAddress)\n",
    "\n",
    "# Start Acquisition\n",
    "device.start(samplingRate, acqChannels)\n",
    "\n",
    "start = time.time()\n",
    "end = time.time()\n",
    "\n",
    "inflating = False\n",
    "inflating_start_time = time.time()\n",
    "\n",
    "data = []\n",
    "features = []\n",
    "trends = {}\n",
    "\n",
    "while (end - start) < running_time:\n",
    "        start_loop = time.time()\n",
    "        \n",
    "        new_samples = device.read(nSamples)\n",
    "        new_signal = [s[-1] for s in new_samples]\n",
    "    \n",
    "        data += new_signal\n",
    "        \n",
    "        if inflating and (time.time() - inflating_start_time) > 5:\n",
    "            client.send_message(\"/actuator/1/inflate\", -50.0)\n",
    "            print(\"deflating\")\n",
    "            inflating = False\n",
    "        \n",
    "        if feature_time > feature_interval:\n",
    "            data = data[-samplingRate*5*60:]\n",
    "            #print(data[:5])\n",
    "            \n",
    "            peaks = det.swt_detector(data)\n",
    "            intervals = [(1000 / samplingRate) * (peaks[i] - peaks[i-1]) for i in range(1,len(peaks))]\n",
    "            \n",
    "            print(len(intervals))\n",
    "            new_features = calc_features(intervals=intervals, samplingRate=samplingRate)\n",
    "            features.append(new_features)\n",
    "            print(new_features)\n",
    "            \n",
    "            if (end - start) > 1 * 60:\n",
    "                \n",
    "                for key in features[0].keys():\n",
    "                    trends[key] = detect_trend([f[key] for f in features])\n",
    "        \n",
    "                if trends[\"rmssd\"] < 0:\n",
    "                    print(\"detected increase in anxiety\")\n",
    "                    \n",
    "                if not inflating:\n",
    "                    client.send_message(\"/actuator/1/inflate\", 50.0)\n",
    "                    print(\"inflating\")\n",
    "                    inflating_start_time = time.time()\n",
    "                    inflating = True\n",
    "                    \n",
    "            \n",
    "            feature_time = 0\n",
    "        \n",
    "        \n",
    "        feature_time += time.time() - end\n",
    "        end = time.time()\n",
    "\n",
    "        end_loop = time.time()\n",
    "        print(\"Execution time of loop: \", end_loop - start_loop)\n",
    "      \n",
    "    \n",
    "device.stop()\n",
    "device.close()"
   ]
  },
  {
   "cell_type": "code",
   "execution_count": 269,
   "metadata": {},
   "outputs": [
    {
     "name": "stdout",
     "output_type": "stream",
     "text": [
      "51\n",
      "0  windows calculated\n",
      "5  windows calculated\n",
      "10  windows calculated\n",
      "15  windows calculated\n",
      "20  windows calculated\n",
      "25  windows calculated\n",
      "30  windows calculated\n",
      "35  windows calculated\n",
      "40  windows calculated\n",
      "45  windows calculated\n",
      "50  windows calculated\n"
     ]
    }
   ],
   "source": [
    "import wfdb\n",
    "\n",
    "sig, fields = wfdb.rdsamp(\"Sensor data/100\")\n",
    "ecg_30min = sig[:, 0]  \n",
    "\n",
    "sr = fields[\"fs\"]\n",
    "window_length = 5 * 60 * sr\n",
    "\n",
    "features_mit = []\n",
    "\n",
    "print(int((len(ecg_30min) - window_length) / (sr * 30)) + 1)\n",
    "\n",
    "for i in range(0, int((len(ecg_30min) - window_length) / (sr * 30)) + 1 ):\n",
    "    ecg_window = ecg_30min[i*sr:i*sr+window_length]\n",
    "    \n",
    "    peaks_mit = det.swt_detector(ecg_window)\n",
    "    intervals_mit = [(1000 / sr) * (peaks_mit[i] - peaks_mit[i-1]) for i in range(1,len(peaks_mit))]\n",
    "    \n",
    "    new_features = calc_features(intervals=intervals_mit, samplingRate=sr)\n",
    "    features_mit.append(new_features)\n",
    "        \n",
    "    if i%5 == 0:\n",
    "        print(i, \" windows calculated\")"
   ]
  },
  {
   "cell_type": "code",
   "execution_count": 143,
   "metadata": {},
   "outputs": [],
   "source": [
    "from pythonosc.udp_client import SimpleUDPClient\n",
    "\n",
    "ip = \"192.168.0.106\"\n",
    "port = 32000\n",
    "\n",
    "client = SimpleUDPClient(ip, port)  # Create client\n",
    "\n",
    "client.send_message(\"/actuator/1/inflate\", -32.0)   # Send float message between -100 and 100\n"
   ]
  },
  {
   "cell_type": "code",
   "execution_count": 332,
   "metadata": {},
   "outputs": [],
   "source": [
    "device.stop()\n",
    "device.close()"
   ]
  },
  {
   "cell_type": "code",
   "execution_count": 324,
   "metadata": {},
   "outputs": [],
   "source": [
    "client.send_message(\"/actuator/1/inflate\", -100.0)\n",
    "time.sleep(7)\n",
    "client.send_message(\"/actuator/1/inflate\", 0.0)"
   ]
  },
  {
   "cell_type": "code",
   "execution_count": 210,
   "metadata": {},
   "outputs": [
    {
     "ename": "KeyboardInterrupt",
     "evalue": "",
     "output_type": "error",
     "traceback": [
      "\u001b[0;31m---------------------------------------------------------------------------\u001b[0m",
      "\u001b[0;31mKeyboardInterrupt\u001b[0m                         Traceback (most recent call last)",
      "\u001b[0;32m<ipython-input-210-c5d0f3031a83>\u001b[0m in \u001b[0;36m<module>\u001b[0;34m\u001b[0m\n\u001b[1;32m      5\u001b[0m     \u001b[0mtime\u001b[0m\u001b[0;34m.\u001b[0m\u001b[0msleep\u001b[0m\u001b[0;34m(\u001b[0m\u001b[0;36m2\u001b[0m\u001b[0;34m)\u001b[0m\u001b[0;34m\u001b[0m\u001b[0;34m\u001b[0m\u001b[0m\n\u001b[1;32m      6\u001b[0m     \u001b[0mclient\u001b[0m\u001b[0;34m.\u001b[0m\u001b[0msend_message\u001b[0m\u001b[0;34m(\u001b[0m\u001b[0;34m\"/actuator/1/inflate\"\u001b[0m\u001b[0;34m,\u001b[0m \u001b[0;34m-\u001b[0m\u001b[0;36m100.0\u001b[0m\u001b[0;34m)\u001b[0m\u001b[0;34m\u001b[0m\u001b[0;34m\u001b[0m\u001b[0m\n\u001b[0;32m----> 7\u001b[0;31m     \u001b[0mtime\u001b[0m\u001b[0;34m.\u001b[0m\u001b[0msleep\u001b[0m\u001b[0;34m(\u001b[0m\u001b[0;36m2\u001b[0m\u001b[0;34m)\u001b[0m\u001b[0;34m\u001b[0m\u001b[0;34m\u001b[0m\u001b[0m\n\u001b[0m",
      "\u001b[0;31mKeyboardInterrupt\u001b[0m: "
     ]
    }
   ],
   "source": [
    "start = time.time()\n",
    "running_time = 20\n",
    "\n",
    "while (time.time() - start) < running_time:\n",
    "    client.send_message(\"/actuator/1/inflate\", 100.0)\n",
    "    time.sleep(2)\n",
    "    client.send_message(\"/actuator/1/inflate\", -100.0)\n",
    "    time.sleep(2)"
   ]
  },
  {
   "cell_type": "code",
   "execution_count": 216,
   "metadata": {},
   "outputs": [
    {
     "data": {
      "image/png": "[encoded data removed]",
      "text/plain": [
       "<Figure size 432x288 with 1 Axes>"
      ]
     },
     "metadata": {
      "needs_background": "light"
     },
     "output_type": "display_data"
    }
   ],
   "source": [
    "plt.figure()\n",
    "plt.plot([f['hr_mean'] for f in features[45:]])\n",
    "plt.show()"
   ]
  },
  {
   "cell_type": "code",
   "execution_count": 256,
   "metadata": {},
   "outputs": [],
   "source": [
    "hr_means = [f['hr_mean'] for f in features]\n",
    "\n",
    "hr_avg = sum(hr_means) / len(hr_means)"
   ]
  },
  {
   "cell_type": "code",
   "execution_count": 257,
   "metadata": {},
   "outputs": [],
   "source": [
    "hr_stds = [f['hr_std'] for f in features]\n",
    "\n",
    "hr_std_avg = sum(hr_stds) / len(hr_stds)"
   ]
  },
  {
   "cell_type": "code",
   "execution_count": 226,
   "metadata": {},
   "outputs": [
    {
     "data": {
      "text/plain": [
       "[80.3421186274658, 81.29450876833754, 79.1637841030749]"
      ]
     },
     "execution_count": 226,
     "metadata": {},
     "output_type": "execute_result"
    }
   ],
   "source": [
    "[x for x in hr_means if x > hr_avg + 0.5 * hr_std_avg]"
   ]
  },
  {
   "cell_type": "code",
   "execution_count": 253,
   "metadata": {},
   "outputs": [],
   "source": [
    "def detect_trend(data):\n",
    "    size = np.arange(0,len(data))\n",
    "    data_array = np.array(data)\n",
    "    trend = np.polyfit(size, data_array, 1)\n",
    "    return trend[0]"
   ]
  },
  {
   "cell_type": "code",
   "execution_count": 345,
   "metadata": {},
   "outputs": [
    {
     "data": {
      "text/plain": [
       "array([-6.85843803])"
      ]
     },
     "execution_count": 345,
     "metadata": {},
     "output_type": "execute_result"
    }
   ],
   "source": [
    "detect_trend(feats)"
   ]
  },
  {
   "cell_type": "code",
   "execution_count": 277,
   "metadata": {},
   "outputs": [
    {
     "name": "stdout",
     "output_type": "stream",
     "text": [
      "nni_mean : -7.644730482434067\n",
      "hr_mean : -0.44069900647379484\n",
      "hr_std : -0.36003244535891576\n",
      "rmssd : -38.82116908506565\n",
      "lf : -557923.761604315\n",
      "hf : -24541.307403342915\n",
      "LF/HF ratio : -1.2319001797023528\n"
     ]
    }
   ],
   "source": [
    "trends = {}\n",
    "\n",
    "for key in features[0].keys():\n",
    "    print(key, \":\", detect_trend([f[key] for f in features]))\n",
    "    trends[key] = detect_trend([f[key] for f in features])"
   ]
  },
  {
   "cell_type": "code",
   "execution_count": 333,
   "metadata": {},
   "outputs": [],
   "source": [
    "client.send_message(\"/actuator/1/inflate\", 0.0)"
   ]
  },
  {
   "cell_type": "code",
   "execution_count": 336,
   "metadata": {},
   "outputs": [
    {
     "name": "stdout",
     "output_type": "stream",
     "text": [
      "97\n"
     ]
    }
   ],
   "source": [
    "peaks = det.swt_detector(data)\n",
    "intervals = [(1000 / samplingRate) * (peaks[i] - peaks[i-1]) for i in range(1,len(peaks))]\n",
    "            \n",
    "print(len(intervals))\n",
    "features = calc_features(intervals=intervals, samplingRate=samplingRate)\n",
    "\n"
   ]
  },
  {
   "cell_type": "code",
   "execution_count": 337,
   "metadata": {},
   "outputs": [
    {
     "data": {
      "text/plain": [
       "{'nni_mean': 973.7113402061856,\n",
       " 'hr_mean': 61.9723069826777,\n",
       " 'hr_std': 4.774807399845343,\n",
       " 'rmssd': 83.52270150484038,\n",
       " 'lf': 1194.157581601895,\n",
       " 'hf': 1751.4443405107475,\n",
       " 'LF/HF ratio': 0.6818130350940302}"
      ]
     },
     "execution_count": 337,
     "metadata": {},
     "output_type": "execute_result"
    }
   ],
   "source": [
    "features"
   ]
  },
  {
   "cell_type": "code",
   "execution_count": 344,
   "metadata": {},
   "outputs": [],
   "source": [
    "feats = []\n",
    "\n",
    "for i in range(0,9):\n",
    "    feats.append(pyhrv.time_domain.rmssd(nni=intervals[i * 10: i * 10 + 10]))"
   ]
  },
  {
   "cell_type": "code",
   "execution_count": null,
   "metadata": {},
   "outputs": [],
   "source": []
  }
 ],
 "metadata": {
  "kernelspec": {
   "display_name": "Python 3",
   "language": "python",
   "name": "python3"
  },
  "language_info": {
   "codemirror_mode": {
    "name": "ipython",
    "version": 3
   },
   "file_extension": ".py",
   "mimetype": "text/x-python",
   "name": "python",
   "nbconvert_exporter": "python",
   "pygments_lexer": "ipython3",
   "version": "3.7.4"
  }
 },
 "nbformat": 4,
 "nbformat_minor": 2
}
